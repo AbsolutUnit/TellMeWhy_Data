{
  "nbformat": 4,
  "nbformat_minor": 0,
  "metadata": {
    "colab": {
      "name": "main.ipynb",
      "provenance": [],
      "collapsed_sections": []
    },
    "kernelspec": {
      "name": "python3",
      "display_name": "Python 3"
    },
    "language_info": {
      "name": "python"
    }
  },
  "cells": [
    {
      "cell_type": "code",
      "metadata": {
        "colab": {
          "base_uri": "https://localhost:8080/"
        },
        "id": "HIZiuI8qxtPe",
        "outputId": "525f4384-61eb-4f69-ea43-6cd43ae59768"
      },
      "source": [
        "import os\n",
        "import csv\n",
        "import json\n",
        "import random\n",
        "import pandas as pd\n",
        "from google.colab import drive\n",
        "drive.mount('/content/gdrive', force_remount=True)"
      ],
      "execution_count": null,
      "outputs": [
        {
          "output_type": "stream",
          "text": [
            "Mounted at /content/gdrive\n"
          ],
          "name": "stdout"
        }
      ]
    },
    {
      "cell_type": "code",
      "metadata": {
        "id": "lsIdN2U-ySII"
      },
      "source": [
        "os.chdir('gdrive/My Drive/TellMeWhy')"
      ],
      "execution_count": null,
      "outputs": []
    },
    {
      "cell_type": "code",
      "metadata": {
        "id": "n8kh1BxjydcD"
      },
      "source": [
        "with open('val.json') as json_file:   #use val not train\n",
        "  data = json.load(json_file)"
      ],
      "execution_count": null,
      "outputs": []
    },
    {
      "cell_type": "code",
      "metadata": {
        "id": "Ll08hmbTy8kj"
      },
      "source": [
        "df = pd.read_json('val.json')\n",
        "col_to_move = ['question_meta']\n",
        "df = df[col_to_move + [col for col in df.columns if col not in col_to_move]]"
      ],
      "execution_count": null,
      "outputs": []
    },
    {
      "cell_type": "code",
      "metadata": {
        "id": "uV2VeJyWeHXw"
      },
      "source": [
        "questions_meta = df.sample(n = 100, replace = True)\n",
        "# print(questions_meta)"
      ],
      "execution_count": null,
      "outputs": []
    },
    {
      "cell_type": "code",
      "metadata": {
        "id": "q4cL4cNhwO3d"
      },
      "source": [
        "fin = []\n",
        "for each in questions_meta.iloc:\n",
        "  fin.append(df.loc[df['question_meta'] == each['question_meta']])"
      ],
      "execution_count": null,
      "outputs": []
    },
    {
      "cell_type": "code",
      "metadata": {
        "id": "ahjl9yMH1hI4"
      },
      "source": [
        "with open('tellmewhy_new.csv', 'w', encoding = 'UTF8', newline = '') as csv_out:\n",
        "  writer = csv.writer(csv_out)\n",
        "  writer.writerow(['Original Narrative Form', 'Original Sentence for Question', 'Question', 'Answer', 'Cue/s', 'Cue Type', 'Explanation'])\n",
        "  for items in fin:\n",
        "    for val in items.iloc:\n",
        "      # print(val)\n",
        "      writer.writerow([' '.join(str(f) for f in val['original_narrative_form']), val['original_sentence_for_question'], val['question'], val['answer']])"
      ],
      "execution_count": null,
      "outputs": []
    }
  ]
}